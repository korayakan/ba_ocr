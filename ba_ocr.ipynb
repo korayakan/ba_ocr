{
  "nbformat": 4,
  "nbformat_minor": 0,
  "metadata": {
    "colab": {
      "name": "ba_ocr.ipynb",
      "version": "0.3.2",
      "provenance": [],
      "private_outputs": true
    },
    "kernelspec": {
      "name": "python3",
      "display_name": "Python 3"
    }
  },
  "cells": [
    {
      "cell_type": "code",
      "metadata": {
        "id": "Zf18vvVQjSBM",
        "colab_type": "code",
        "colab": {}
      },
      "source": [
        "!sudo apt-get -qq install tesseract-ocr\n",
        "!pip install -q fuzzywuzzy[speedup]\n",
        "!pip install -q pytesseract\n",
        "\n",
        "print('Dependencies tesseract, pytesseract and fuzzywuzzy installed')"
      ],
      "execution_count": 0,
      "outputs": []
    },
    {
      "cell_type": "code",
      "metadata": {
        "id": "JOp7PSCOiRJm",
        "colab_type": "code",
        "colab": {}
      },
      "source": [
        "![ -d \"ba_dataset\" ] && echo \"Dataset directory exists.\"\n",
        "![ ! -d \"ba_dataset\" ] && echo \"Dataset directory DOES NOT exist. Cloning from Github...\" && git clone -q https://github.com/korayakan/ba_dataset.git && rm -rf ba_dataset/.git && echo \"Done\""
      ],
      "execution_count": 0,
      "outputs": []
    },
    {
      "cell_type": "code",
      "metadata": {
        "id": "puA9660qiyG6",
        "colab_type": "code",
        "colab": {}
      },
      "source": [
        "!echo \"Cloning module code from Github...\" && rm -rf ba && git clone -q https://github.com/korayakan/ba.git && rm -rf ba/.git && echo \"Done\""
      ],
      "execution_count": 0,
      "outputs": []
    },
    {
      "cell_type": "code",
      "metadata": {
        "id": "O8IpnP08jBbG",
        "colab_type": "code",
        "colab": {}
      },
      "source": [
        "from ba.module import data\n",
        "img = data.read_image_file('X00016469612')\n",
        "img"
      ],
      "execution_count": 0,
      "outputs": []
    },
    {
      "cell_type": "code",
      "metadata": {
        "id": "8xp8zcB3jjJQ",
        "colab_type": "code",
        "colab": {}
      },
      "source": [
        "import pytesseract\n",
        "print(pytesseract.image_to_string(img, lang='eng', config='--oem 1'))"
      ],
      "execution_count": 0,
      "outputs": []
    },
    {
      "cell_type": "code",
      "metadata": {
        "id": "QL1hS97ymBSZ",
        "colab_type": "code",
        "colab": {}
      },
      "source": [
        "print(pytesseract.image_to_data(img, lang='eng', config='--oem 1'))"
      ],
      "execution_count": 0,
      "outputs": []
    }
  ]
}