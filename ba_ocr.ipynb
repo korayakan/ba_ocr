{
  "nbformat": 4,
  "nbformat_minor": 0,
  "metadata": {
    "colab": {
      "name": "ba_ocr.ipynb",
      "version": "0.3.2",
      "provenance": [],
      "private_outputs": true
    },
    "kernelspec": {
      "name": "python3",
      "display_name": "Python 3"
    }
  },
  "cells": [
    {
      "cell_type": "code",
      "metadata": {
        "id": "JOp7PSCOiRJm",
        "colab_type": "code",
        "colab": {}
      },
      "source": [
        "print('hello')"
      ],
      "execution_count": 0,
      "outputs": []
    }
  ]
}